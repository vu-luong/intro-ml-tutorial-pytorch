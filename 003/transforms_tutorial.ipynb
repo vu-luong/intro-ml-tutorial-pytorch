{
 "cells": [
  {
   "cell_type": "markdown",
   "metadata": {
    "tags": []
   },
   "source": [
    "# Buổi 3. Chuyển đổi dữ liệu với Transforms\n",
    "\n",
    "- Dữ liệu thường ở dạng raw &#8594; cần biến đổi chúng về dạng thích hợp để huấn luyện mô hình &#8594; **transforms**"
   ]
  },
  {
   "cell_type": "code",
   "execution_count": 9,
   "metadata": {},
   "outputs": [],
   "source": [
    "import torch\n",
    "from torchvision import datasets\n",
    "from torchvision.transforms import ToTensor, Lambda\n",
    "import numpy as np"
   ]
  },
  {
   "cell_type": "markdown",
   "metadata": {},
   "source": [
    "## 1. Dùng transforms có sẵn\n",
    "- Module `torchvision.transforms` có sẵn nhiều transforms phổ biến. Ví dụ: `ToTensor()`\n",
    "- `ToTensor` chuyển PIL image hoặc NumPy `ndarray` thành `FloatTensor` và đưa giá trị pixel về khoảng [0., 1.]\n",
    "\n",
    "<!-- scales the image's pixel intensity values in the range [0., 1.] -->\n",
    "\n",
    "\n"
   ]
  },
  {
   "cell_type": "code",
   "execution_count": 15,
   "metadata": {},
   "outputs": [
    {
     "data": {
      "text/plain": [
       "array([[1., 2., 5.],\n",
       "       [2., 3., 1.]])"
      ]
     },
     "metadata": {},
     "output_type": "display_data"
    },
    {
     "data": {
      "text/plain": [
       "tensor([[[1., 2., 5.],\n",
       "         [2., 3., 1.]]], dtype=torch.float64)"
      ]
     },
     "execution_count": 15,
     "metadata": {},
     "output_type": "execute_result"
    }
   ],
   "source": [
    "arr = np.array([[1., 2., 5.], [2., 3., 1.]])\n",
    "display(arr)\n",
    "ToTensor()(arr)"
   ]
  },
  {
   "cell_type": "markdown",
   "metadata": {},
   "source": [
    "## 2. Dùng transforms tự định nghĩa\n",
    "\n",
    "- Lambda transforms cho phép tự định nghĩa hàm chuyển đổi.\n",
    "- Ví dụ chuyển 1 số nguyên về dạng one-hot vector: tạo 1 vector toàn 0 với `size = 10` --> dùng `torch.Tensor.scatter` để gán `value = 1` cho chỉ số tương ứng với số nguyên.\n"
   ]
  },
  {
   "cell_type": "code",
   "execution_count": 16,
   "metadata": {},
   "outputs": [
    {
     "data": {
      "text/plain": [
       "tensor([1., 0., 0., 0., 0., 0., 0., 0., 0., 0.])"
      ]
     },
     "metadata": {},
     "output_type": "display_data"
    },
    {
     "data": {
      "text/plain": [
       "tensor([0., 0., 1., 0., 0., 0., 0., 0., 0., 0.])"
      ]
     },
     "metadata": {},
     "output_type": "display_data"
    },
    {
     "data": {
      "text/plain": [
       "tensor([0., 0., 0., 0., 1., 0., 0., 0., 0., 0.])"
      ]
     },
     "metadata": {},
     "output_type": "display_data"
    }
   ],
   "source": [
    "target_transform = Lambda(lambda y: torch.zeros(\n",
    "    10, dtype=torch.float).scatter_(dim=0, index=torch.tensor(y), value=1))\n",
    "display(target_transform(0))\n",
    "display(target_transform(2))\n",
    "display(target_transform(4))"
   ]
  },
  {
   "cell_type": "markdown",
   "metadata": {},
   "source": [
    "## 3. Biến đổi bộ dữ liệu FashionMNIST\n",
    "- Bộ dữ liệu FashionMNIST có quan sát ở dạng PIL Image, nhãn ở dạng số nguyên.\n",
    "- Để đưa vào mô hình, ta cần quan sát ở dạng Tensors, nhãn ở dạng one-hot vector tensors.\n",
    "\n",
    "<!-- To make these transformations, we use ``ToTensor`` and ``Lambda``. -->\n"
   ]
  },
  {
   "cell_type": "code",
   "execution_count": 17,
   "metadata": {
    "collapsed": false,
    "jupyter": {
     "outputs_hidden": false
    }
   },
   "outputs": [],
   "source": [
    "ds = datasets.FashionMNIST(\n",
    "    root=\"data\",\n",
    "    train=True,\n",
    "    download=True,\n",
    "    transform=ToTensor(),\n",
    "    target_transform=Lambda(lambda y: torch.zeros(10, dtype=torch.float).scatter_(0, torch.tensor(y), value=1))\n",
    ")"
   ]
  },
  {
   "cell_type": "code",
   "execution_count": 24,
   "metadata": {},
   "outputs": [
    {
     "data": {
      "text/plain": [
       "torch.Tensor"
      ]
     },
     "metadata": {},
     "output_type": "display_data"
    },
    {
     "data": {
      "text/plain": [
       "tensor([0., 0., 0., 0., 0., 0., 0., 0., 0., 1.])"
      ]
     },
     "metadata": {},
     "output_type": "display_data"
    }
   ],
   "source": [
    "x, y = ds[0]\n",
    "display(type(x))\n",
    "display(y)"
   ]
  },
  {
   "cell_type": "markdown",
   "metadata": {},
   "source": [
    "--------------\n",
    "\n",
    "\n"
   ]
  }
 ],
 "metadata": {
  "kernelspec": {
   "display_name": "Python 3 (ipykernel)",
   "language": "python",
   "name": "python3"
  },
  "language_info": {
   "codemirror_mode": {
    "name": "ipython",
    "version": 3
   },
   "file_extension": ".py",
   "mimetype": "text/x-python",
   "name": "python",
   "nbconvert_exporter": "python",
   "pygments_lexer": "ipython3",
   "version": "3.7.11"
  }
 },
 "nbformat": 4,
 "nbformat_minor": 4
}
